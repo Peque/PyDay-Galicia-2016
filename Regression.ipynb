{
 "cells": [
  {
   "cell_type": "code",
   "execution_count": null,
   "metadata": {
    "collapsed": true
   },
   "outputs": [],
   "source": [
    "% matplotlib inline"
   ]
  },
  {
   "cell_type": "markdown",
   "metadata": {},
   "source": [
    "# Eureka!"
   ]
  },
  {
   "cell_type": "markdown",
   "metadata": {},
   "source": [
    "## Why Eureka?"
   ]
  },
  {
   "cell_type": "markdown",
   "metadata": {},
   "source": [
    "## Inspiration"
   ]
  },
  {
   "cell_type": "code",
   "execution_count": null,
   "metadata": {
    "collapsed": false
   },
   "outputs": [],
   "source": [
    "import IPython\n",
    "IPython.display.Image(url='images/img_1153.jpg')"
   ]
  },
  {
   "cell_type": "markdown",
   "metadata": {},
   "source": [
    "## Constant translational acceleration in a straight line"
   ]
  },
  {
   "cell_type": "markdown",
   "metadata": {},
   "source": [
    "Acceleration is defined as the rate of change of velocity:\n",
    "\n",
    "$$a = \\frac{\\mathrm{d}v}{\\mathrm{d}t}$$\n",
    "\n",
    "Velocity (speed) is the rate of change of position:\n",
    "\n",
    "$$v = \\frac{\\mathrm{d}x}{\\mathrm{d}t}$$"
   ]
  },
  {
   "cell_type": "code",
   "execution_count": null,
   "metadata": {
    "collapsed": false
   },
   "outputs": [],
   "source": [
    "import sympy\n",
    "from sympy import symbols, Eq, Integral, solve\n",
    "from sympy.plotting import plot, plot_parametric, plot_implicit\n",
    "\n",
    "sympy.init_printing()"
   ]
  },
  {
   "cell_type": "code",
   "execution_count": null,
   "metadata": {
    "collapsed": false
   },
   "outputs": [],
   "source": [
    "a, x, x0, v, v0, t, t0 = symbols('a x x_0 v v_0 t t_0')"
   ]
  },
  {
   "cell_type": "code",
   "execution_count": null,
   "metadata": {
    "collapsed": false
   },
   "outputs": [],
   "source": [
    "left = Integral(a, (t, 0, t))\n",
    "right = Integral(1, (v, v0, v))\n",
    "equation = Eq(left, right)\n",
    "equation"
   ]
  },
  {
   "cell_type": "code",
   "execution_count": null,
   "metadata": {
    "collapsed": false
   },
   "outputs": [],
   "source": [
    "equation = equation.doit()\n",
    "equation"
   ]
  },
  {
   "cell_type": "code",
   "execution_count": null,
   "metadata": {
    "collapsed": false
   },
   "outputs": [],
   "source": [
    "v = solve(equation, v)[0]\n",
    "v"
   ]
  },
  {
   "cell_type": "code",
   "execution_count": null,
   "metadata": {
    "collapsed": false,
    "scrolled": true
   },
   "outputs": [],
   "source": [
    "left = Integral(v, (t, 0, t))\n",
    "right = Integral(1, (x, x0, x))\n",
    "equation = Eq(left, right)\n",
    "equation"
   ]
  },
  {
   "cell_type": "code",
   "execution_count": null,
   "metadata": {
    "collapsed": false,
    "scrolled": true
   },
   "outputs": [],
   "source": [
    "equation = equation.doit()\n",
    "equation"
   ]
  },
  {
   "cell_type": "code",
   "execution_count": null,
   "metadata": {
    "collapsed": false,
    "scrolled": true
   },
   "outputs": [],
   "source": [
    "solutions = solve(equation, t)\n",
    "solutions"
   ]
  },
  {
   "cell_type": "markdown",
   "metadata": {},
   "source": [
    "### Setting initial conditions and acceleration"
   ]
  },
  {
   "cell_type": "code",
   "execution_count": null,
   "metadata": {
    "collapsed": false
   },
   "outputs": [],
   "source": [
    "s0 = solutions[0].subs({'v_0': 0, 'x_0': 0, 'a': 9.8})\n",
    "s0"
   ]
  },
  {
   "cell_type": "code",
   "execution_count": null,
   "metadata": {
    "collapsed": false
   },
   "outputs": [],
   "source": [
    "s1 = solutions[1].subs({'v_0': 0, 'x_0': 0, 'a': 9.8})\n",
    "s1"
   ]
  },
  {
   "cell_type": "code",
   "execution_count": null,
   "metadata": {
    "collapsed": false
   },
   "outputs": [],
   "source": [
    "plot(s0, (x, 0, 10), title='Fall duration',\n",
    "     xlabel='Distance (m)', ylabel='Time (s)')"
   ]
  },
  {
   "cell_type": "code",
   "execution_count": null,
   "metadata": {
    "collapsed": false
   },
   "outputs": [],
   "source": [
    "s0.subs('x', 13).evalf()"
   ]
  },
  {
   "cell_type": "markdown",
   "metadata": {},
   "source": [
    "# Experiment"
   ]
  },
  {
   "cell_type": "markdown",
   "metadata": {},
   "source": [
    "## Environment"
   ]
  },
  {
   "cell_type": "code",
   "execution_count": null,
   "metadata": {
    "collapsed": false
   },
   "outputs": [],
   "source": [
    "IPython.display.Image(url='images/experiment_rule.jpg', width=300)"
   ]
  },
  {
   "cell_type": "code",
   "execution_count": null,
   "metadata": {
    "collapsed": false
   },
   "outputs": [],
   "source": [
    "IPython.display.Image(url='images/experiment_height.jpg', width=300)"
   ]
  },
  {
   "cell_type": "markdown",
   "metadata": {},
   "source": [
    "## Audio analysis"
   ]
  },
  {
   "cell_type": "code",
   "execution_count": null,
   "metadata": {
    "collapsed": false
   },
   "outputs": [],
   "source": [
    "import os\n",
    "\n",
    "import numpy\n",
    "from scipy.signal import resample\n",
    "from scipy.io import wavfile\n",
    "from bokeh.plotting import figure, show\n",
    "from bokeh.charts import Bar\n",
    "\n",
    "from bokeh.io import output_notebook\n",
    "output_notebook()"
   ]
  },
  {
   "cell_type": "code",
   "execution_count": null,
   "metadata": {
    "collapsed": false,
    "scrolled": true
   },
   "outputs": [],
   "source": [
    "wav = wavfile.read('data/gravity_audio/180.wav')\n",
    "print(wav)"
   ]
  },
  {
   "cell_type": "code",
   "execution_count": null,
   "metadata": {
    "collapsed": false
   },
   "outputs": [],
   "source": [
    "DATA_PATH = os.path.join('data', 'gravity_audio')\n",
    "samples = [wavfile.read(os.path.join(DATA_PATH, fname))[1]\n",
    "           for fname in sorted(os.listdir(DATA_PATH))]"
   ]
  },
  {
   "cell_type": "code",
   "execution_count": null,
   "metadata": {
    "collapsed": false
   },
   "outputs": [],
   "source": [
    "def plot_audio(data):\n",
    "    f = figure(width=800, height=400,\n",
    "               title='WAV file plot',\n",
    "               x_axis_label='Time (s)',\n",
    "               y_axis_label='Amplitude')\n",
    "    f.line(numpy.arange(len(data)) / 44100, numpy.array(data))\n",
    "    show(f)"
   ]
  },
  {
   "cell_type": "code",
   "execution_count": null,
   "metadata": {
    "collapsed": false,
    "scrolled": false
   },
   "outputs": [],
   "source": [
    "plot_audio(samples[0])"
   ]
  },
  {
   "cell_type": "code",
   "execution_count": null,
   "metadata": {
    "collapsed": false
   },
   "outputs": [],
   "source": [
    "plot_audio(samples[-1])"
   ]
  },
  {
   "cell_type": "markdown",
   "metadata": {},
   "source": [
    "## Convolution"
   ]
  },
  {
   "cell_type": "code",
   "execution_count": null,
   "metadata": {
    "collapsed": false
   },
   "outputs": [],
   "source": [
    "WINDOW = int(0.02 * len(samples[-1]))"
   ]
  },
  {
   "cell_type": "code",
   "execution_count": null,
   "metadata": {
    "collapsed": false
   },
   "outputs": [],
   "source": [
    "def convolution(data, window):\n",
    "    filtered = [0] * len(data)\n",
    "    for i in range(window - 1, len(data)):\n",
    "        for j in range(window):\n",
    "            filtered[i] = max(filtered[i], abs(data[i - j]))\n",
    "    return filtered"
   ]
  },
  {
   "cell_type": "code",
   "execution_count": null,
   "metadata": {
    "collapsed": false
   },
   "outputs": [],
   "source": [
    "%time filtered = convolution(samples[-1], WINDOW)"
   ]
  },
  {
   "cell_type": "code",
   "execution_count": null,
   "metadata": {
    "collapsed": false
   },
   "outputs": [],
   "source": [
    "plot_audio(filtered)"
   ]
  },
  {
   "cell_type": "markdown",
   "metadata": {},
   "source": [
    "### Optimization"
   ]
  },
  {
   "cell_type": "code",
   "execution_count": null,
   "metadata": {
    "collapsed": false
   },
   "outputs": [],
   "source": [
    "# Numba\n",
    "\n",
    "%timeit convolution_numba(samples[-1], WINDOW)"
   ]
  },
  {
   "cell_type": "code",
   "execution_count": null,
   "metadata": {
    "collapsed": false
   },
   "outputs": [],
   "source": [
    "IPython.display.Image(url='images/jurassic.gif', width=600)"
   ]
  },
  {
   "cell_type": "code",
   "execution_count": null,
   "metadata": {
    "collapsed": false,
    "scrolled": false
   },
   "outputs": [],
   "source": [
    "filtered = convolution_numba(samples[-1], WINDOW)\n",
    "plot_audio(filtered)"
   ]
  },
  {
   "cell_type": "code",
   "execution_count": null,
   "metadata": {
    "collapsed": false
   },
   "outputs": [],
   "source": [
    "@numba.jit\n",
    "def convolution_optimized(data, window):\n",
    "    filtered = numpy.zeros(len(data))\n",
    "    abs_data = numpy.abs(data)\n",
    "    for i in range(window - 1, len(data)):\n",
    "        filtered[i] = abs_data[i - window:i].max()\n",
    "    return filtered\n",
    "\n",
    "%timeit convolution_optimized(samples[-1], WINDOW)"
   ]
  },
  {
   "cell_type": "code",
   "execution_count": null,
   "metadata": {
    "collapsed": false
   },
   "outputs": [],
   "source": [
    "IPython.display.Image(url='images/obama.gif', width=600)"
   ]
  },
  {
   "cell_type": "code",
   "execution_count": null,
   "metadata": {
    "collapsed": false,
    "scrolled": false
   },
   "outputs": [],
   "source": [
    "filtered = convolution_optimized(samples[-1], WINDOW)\n",
    "plot_audio(filtered)"
   ]
  },
  {
   "cell_type": "code",
   "execution_count": null,
   "metadata": {
    "collapsed": false,
    "scrolled": true
   },
   "outputs": [],
   "source": [
    "import pandas\n",
    "\n",
    "s = pandas.Series(samples[-1])\n",
    "%timeit s.abs().rolling(WINDOW).max()"
   ]
  },
  {
   "cell_type": "code",
   "execution_count": null,
   "metadata": {
    "collapsed": false,
    "scrolled": true
   },
   "outputs": [],
   "source": [
    "plot_audio(s.abs().rolling(WINDOW).max())"
   ]
  },
  {
   "cell_type": "markdown",
   "metadata": {},
   "source": [
    "## Edge detection"
   ]
  },
  {
   "cell_type": "code",
   "execution_count": null,
   "metadata": {
    "collapsed": true
   },
   "outputs": [],
   "source": [
    "@numba.jit\n",
    "def edge_detect(data, threshold=30000):\n",
    "    filtered = numpy.zeros(len(data))\n",
    "    N = int(0.02 * len(data))\n",
    "    for i in range(N - 1, len(data)):\n",
    "        if data[i] <= threshold:\n",
    "            continue\n",
    "        filtered[i] = 1.\n",
    "        for j in range(N - 1):\n",
    "            if data[i - j - 1] > threshold:\n",
    "                filtered[i] = 0.\n",
    "                break\n",
    "    return filtered"
   ]
  },
  {
   "cell_type": "code",
   "execution_count": null,
   "metadata": {
    "collapsed": false,
    "scrolled": true
   },
   "outputs": [],
   "source": [
    "edge = edge_detect(filtered)\n",
    "edge.sum()"
   ]
  },
  {
   "cell_type": "code",
   "execution_count": null,
   "metadata": {
    "collapsed": false
   },
   "outputs": [],
   "source": [
    "plot_audio(edge)"
   ]
  },
  {
   "cell_type": "code",
   "execution_count": null,
   "metadata": {
    "collapsed": false
   },
   "outputs": [],
   "source": [
    "itemindex = numpy.where(edge==1)\n",
    "time_diff = (itemindex[0][1] - itemindex[0][0]) / 44100\n",
    "time_diff"
   ]
  },
  {
   "cell_type": "markdown",
   "metadata": {},
   "source": [
    "## Time"
   ]
  },
  {
   "cell_type": "code",
   "execution_count": null,
   "metadata": {
    "collapsed": false
   },
   "outputs": [],
   "source": [
    "samples = [wavfile.read(os.path.join(DATA_PATH, fname))[1]\n",
    "           for fname in sorted(os.listdir(DATA_PATH))]\n",
    "times = [0]\n",
    "for data in samples:\n",
    "    filtered = convolution_optimized(data, WINDOW)\n",
    "    edge = edge_detect(filtered)\n",
    "    itemindex = numpy.where(edge==1)\n",
    "    time_diff = (itemindex[0][1] - itemindex[0][0]) / 44100\n",
    "    times.append(time_diff)\n",
    "times = numpy.array(times)"
   ]
  },
  {
   "cell_type": "code",
   "execution_count": null,
   "metadata": {
    "collapsed": false
   },
   "outputs": [],
   "source": [
    "distances = numpy.arange(len(times)) * 0.05\n",
    "g_estimations = (2 * distances) / (times ** 2)\n",
    "\n",
    "g_estimated = g_estimations.mean()\n",
    "error = (9.8 - g_estimated) / 9.8\n",
    "\n",
    "print(g_estimated, error)"
   ]
  },
  {
   "cell_type": "code",
   "execution_count": null,
   "metadata": {
    "collapsed": false,
    "scrolled": false
   },
   "outputs": [],
   "source": [
    "p = Bar([9.8, g_estimated], width=400, height=400)\n",
    "show(p)"
   ]
  },
  {
   "cell_type": "code",
   "execution_count": null,
   "metadata": {
    "collapsed": false,
    "scrolled": false
   },
   "outputs": [],
   "source": [
    "real_times = [numpy.sqrt((2 * 0.05 * i) / 9.8) for i in range(len(times))]\n",
    "\n",
    "\n",
    "f = figure(width=800, height=400,\n",
    "           title='Theoretical versus measured time',\n",
    "           x_axis_label='Distance (m)',\n",
    "           y_axis_label='Time (s)')\n",
    "f.circle(distances, times, fill_color=None, color='red', legend='Measured')\n",
    "f.circle(distances, real_times, fill_color=None, legend='Theoretical')\n",
    "f.legend.location = 'bottom_right'\n",
    "show(f)"
   ]
  },
  {
   "cell_type": "code",
   "execution_count": null,
   "metadata": {
    "code_folding": [],
    "collapsed": true,
    "hide_input": true
   },
   "outputs": [],
   "source": [
    "# TODO (could the air be the cause of the increasingly growing error?)"
   ]
  },
  {
   "cell_type": "markdown",
   "metadata": {},
   "source": [
    "We can calculate the maximum absolute error in the time measure (in seconds):"
   ]
  },
  {
   "cell_type": "code",
   "execution_count": null,
   "metadata": {
    "collapsed": false
   },
   "outputs": [],
   "source": [
    "numpy.abs(real_times - times).max()"
   ]
  },
  {
   "cell_type": "code",
   "execution_count": null,
   "metadata": {
    "collapsed": false
   },
   "outputs": [],
   "source": [
    "error = times - real_times\n",
    "\n",
    "f = figure(width=800, height=400,\n",
    "           title='Measured time error',\n",
    "           x_axis_label='Distance(m)',\n",
    "           y_axis_label='Error (ms)')\n",
    "f.line(distances, error)\n",
    "show(f)"
   ]
  },
  {
   "cell_type": "markdown",
   "metadata": {},
   "source": [
    "# Linear regression"
   ]
  },
  {
   "cell_type": "code",
   "execution_count": null,
   "metadata": {
    "code_folding": [
     0
    ],
    "collapsed": false
   },
   "outputs": [],
   "source": [
    "# RSS plot\n",
    "\n",
    "import numpy\n",
    "from bokeh.models import CustomJS, ColumnDataSource, Slider\n",
    "from bokeh.layouts import column\n",
    "from bokeh.plotting import Figure, output_file, show\n",
    "\n",
    "from bokeh.io import output_notebook\n",
    "output_notebook()\n",
    "\n",
    "x = numpy.linspace(-10, 10, 100)\n",
    "y = x * x + 22.\n",
    "\n",
    "source = ColumnDataSource(data=dict(x=x, y=y))\n",
    "\n",
    "plot = Figure(plot_width=400, plot_height=400,\n",
    "              title='Error',\n",
    "              x_axis_label='x',\n",
    "              y_axis_label='RSS')\n",
    "plot.line('x', 'y', source=source, line_width=3, line_alpha=0.6)\n",
    "\n",
    "x = numpy.array([0])\n",
    "y = numpy.array([x * x + 22.])\n",
    "source = ColumnDataSource(data=dict(x=x, y=y))\n",
    "plot.circle('x', 'y', source=source, size=10)\n",
    "\n",
    "def callback(source=source):\n",
    "    data = source.get('data')\n",
    "    f = cb_obj.get('value')\n",
    "    x, y = data['x'], data['y']\n",
    "    for i in range(len(x)):\n",
    "        x[i] = f\n",
    "        y[i] = f * f + 22.\n",
    "    source.trigger('change')\n",
    "\n",
    "slider = Slider(start=-10, end=10, value=0, step=.01,\n",
    "                callback=CustomJS.from_py_func(callback))\n",
    "\n",
    "layout = column([slider, plot])\n",
    "\n",
    "show(layout)"
   ]
  },
  {
   "cell_type": "markdown",
   "metadata": {},
   "source": [
    "# Linear regression model"
   ]
  },
  {
   "cell_type": "markdown",
   "metadata": {},
   "source": [
    "Simple linear regression model to predict the time:\n",
    "\n",
    "$$f(x) = a x + b$$"
   ]
  },
  {
   "cell_type": "code",
   "execution_count": null,
   "metadata": {
    "collapsed": false,
    "scrolled": true
   },
   "outputs": [],
   "source": [
    "train_distances = distances[::3]\n",
    "train_times = times[::3]\n",
    "\n",
    "df = pandas.DataFrame({'distances': train_distances, 'times': train_times})\n",
    "df.head()"
   ]
  },
  {
   "cell_type": "code",
   "execution_count": null,
   "metadata": {
    "collapsed": false
   },
   "outputs": [],
   "source": [
    "import matplotlib.pyplot as plt\n",
    "import numpy as np\n",
    "from sklearn import datasets, linear_model"
   ]
  },
  {
   "cell_type": "code",
   "execution_count": null,
   "metadata": {
    "collapsed": false
   },
   "outputs": [],
   "source": [
    "# Create linear regression object\n",
    "model = linear_model.LinearRegression()\n",
    "\n",
    "# Train the model using the training sets\n",
    "model.fit(df[['distances']], df['times'])\n",
    "print(model.intercept_, model.coef_)"
   ]
  },
  {
   "cell_type": "code",
   "execution_count": null,
   "metadata": {
    "collapsed": false,
    "scrolled": true
   },
   "outputs": [],
   "source": [
    "predictions = model.predict(df[['distances']])\n",
    "predictions"
   ]
  },
  {
   "cell_type": "code",
   "execution_count": null,
   "metadata": {
    "code_folding": [],
    "collapsed": false
   },
   "outputs": [],
   "source": [
    "plt.figure()\n",
    "plt.scatter(df['distances'], df['times'],  color='black')\n",
    "plt.plot(df['distances'], predictions, color='blue', linewidth=3)\n",
    "\n",
    "plt.xticks(())\n",
    "plt.yticks(())\n",
    "\n",
    "plt.show()"
   ]
  },
  {
   "cell_type": "code",
   "execution_count": null,
   "metadata": {
    "collapsed": false
   },
   "outputs": [],
   "source": [
    "rss = np.sum((predictions - df['times']) ** 2)\n",
    "t_prediction = model.predict(13)[0]\n",
    "t_real = s0.subs('x', 13).evalf()\n",
    "\n",
    "print('RSS: %s' % rss)\n",
    "print('Time (pred): %s' % t_prediction)\n",
    "print('Time (real): %s' % t_real)\n",
    "print('Error: %s' % (t_prediction - t_real))"
   ]
  },
  {
   "cell_type": "code",
   "execution_count": null,
   "metadata": {
    "collapsed": false,
    "scrolled": true
   },
   "outputs": [],
   "source": [
    "model.predict(13)"
   ]
  },
  {
   "cell_type": "code",
   "execution_count": null,
   "metadata": {
    "collapsed": false,
    "scrolled": true
   },
   "outputs": [],
   "source": [
    "model.intercept_ + model.coef_ * 13."
   ]
  },
  {
   "cell_type": "markdown",
   "metadata": {},
   "source": [
    "## Linear regression (new features)"
   ]
  },
  {
   "cell_type": "markdown",
   "metadata": {},
   "source": [
    "A new linear regression model using a transformation of the input:\n",
    "\n",
    "$$f(h(x)) = a h(x) + b$$"
   ]
  },
  {
   "cell_type": "code",
   "execution_count": null,
   "metadata": {
    "collapsed": false,
    "scrolled": true
   },
   "outputs": [],
   "source": [
    "df['sqrt_distances'] = numpy.sqrt(df['distances'])\n",
    "df = df[['sqrt_distances', 'distances', 'times']]\n",
    "df.head()"
   ]
  },
  {
   "cell_type": "code",
   "execution_count": null,
   "metadata": {
    "collapsed": false,
    "scrolled": true
   },
   "outputs": [],
   "source": [
    "# Create linear regression object\n",
    "model = linear_model.LinearRegression()\n",
    "\n",
    "# Train the model using the training sets\n",
    "model.fit(df[['sqrt_distances']], df['times'])\n",
    "\n",
    "linspace = numpy.linspace(0, 2., 100).reshape(-1, 1)\n",
    "predictions = model.predict(linspace ** 0.5)\n",
    "\n",
    "plt.figure()\n",
    "plt.scatter(df['distances'], df['times'],  color='black')\n",
    "plt.plot(linspace, predictions, color='blue', linewidth=3)\n",
    "\n",
    "plt.xticks(())\n",
    "plt.yticks(())\n",
    "\n",
    "plt.show()"
   ]
  },
  {
   "cell_type": "code",
   "execution_count": null,
   "metadata": {
    "collapsed": false
   },
   "outputs": [],
   "source": [
    "rss = np.sum((model.predict(df[['sqrt_distances']]) - df['times']) ** 2)\n",
    "t_prediction = model.predict(13.)[0]\n",
    "t_real = s0.subs('x', 13).evalf()\n",
    "\n",
    "print('RSS: %s' % rss)\n",
    "print('Time (pred): %s' % t_prediction)\n",
    "print('Time (real): %s' % t_real)\n",
    "print('Error: %s' % (t_prediction - t_real))"
   ]
  },
  {
   "cell_type": "code",
   "execution_count": null,
   "metadata": {
    "collapsed": false
   },
   "outputs": [],
   "source": [
    "model.intercept_ + model.coef_ * 13. ** 0.5"
   ]
  },
  {
   "cell_type": "markdown",
   "metadata": {},
   "source": [
    "## Linear regression (multiple features)"
   ]
  },
  {
   "cell_type": "markdown",
   "metadata": {},
   "source": [
    "Linear regression model with multiple features:\n",
    "\n",
    "$$f(x) = w_0 + w_1 x_1 + w_2 x_2$$"
   ]
  },
  {
   "cell_type": "code",
   "execution_count": null,
   "metadata": {
    "collapsed": false,
    "scrolled": true
   },
   "outputs": [],
   "source": [
    "# Create linear regression object\n",
    "model = linear_model.LinearRegression()\n",
    "\n",
    "# Train the model using the training sets\n",
    "model.fit(df[['sqrt_distances', 'distances']], df['times'])\n",
    "\n",
    "linspace = numpy.linspace(0, 2., 100).reshape(-1, 1)\n",
    "predictions = model.predict(numpy.column_stack([linspace ** 0.5, linspace]))\n",
    "\n",
    "plt.figure()\n",
    "plt.scatter(df['distances'], df['times'],  color='black')\n",
    "plt.plot(linspace, predictions, color='blue', linewidth=3)\n",
    "\n",
    "plt.xticks(())\n",
    "plt.yticks(())\n",
    "\n",
    "plt.show()"
   ]
  },
  {
   "cell_type": "code",
   "execution_count": null,
   "metadata": {
    "collapsed": false
   },
   "outputs": [],
   "source": [
    "print(model.intercept_, model.coef_)"
   ]
  },
  {
   "cell_type": "code",
   "execution_count": null,
   "metadata": {
    "collapsed": false,
    "scrolled": true
   },
   "outputs": [],
   "source": [
    "rss = np.sum((model.predict(df[['sqrt_distances', 'distances']]) - df['times']) ** 2)\n",
    "t_prediction = model.predict(numpy.array([numpy.sqrt(13.), 13]).reshape(1, -1))[0]\n",
    "t_real = s0.subs('x', 13).evalf()\n",
    "\n",
    "print('RSS: %s' % rss)\n",
    "print('Time (pred): %s' % t_prediction)\n",
    "print('Time (real): %s' % t_real)\n",
    "print('Error: %s' % (t_prediction - t_real))"
   ]
  },
  {
   "cell_type": "code",
   "execution_count": null,
   "metadata": {
    "collapsed": false
   },
   "outputs": [],
   "source": [
    "model.intercept_ + model.coef_[0] * numpy.sqrt(13.) + model.coef_[1] * 13."
   ]
  },
  {
   "cell_type": "markdown",
   "metadata": {},
   "source": [
    "## Linear regression (many features)"
   ]
  },
  {
   "cell_type": "markdown",
   "metadata": {},
   "source": [
    "Linear regression model with many features:\n",
    "\n",
    "$$f(x) = w_0 + w_1 x_1 + w_2 x_2 + ... + w_N x_N$$"
   ]
  },
  {
   "cell_type": "code",
   "execution_count": null,
   "metadata": {
    "collapsed": false,
    "scrolled": false
   },
   "outputs": [],
   "source": [
    "for i in range(2, 20):\n",
    "    df['distances_%02d' % i] = df['distances'] ** i\n",
    "df.drop('times', axis=1).head()"
   ]
  },
  {
   "cell_type": "code",
   "execution_count": null,
   "metadata": {
    "collapsed": false
   },
   "outputs": [],
   "source": [
    "# Create linear regression object\n",
    "model = linear_model.LinearRegression()\n",
    "\n",
    "# Train the model using the training sets\n",
    "model.fit(df.drop('times', axis=1), df['times'])\n",
    "\n",
    "from sklearn.preprocessing import PolynomialFeatures\n",
    "linspace = numpy.linspace(0, 2., 100).reshape(-1, 1)\n",
    "poly = PolynomialFeatures(degree=19, include_bias=False).fit_transform(linspace)\n",
    "predictions = model.predict(numpy.column_stack([linspace ** 0.5, poly]))\n",
    "\n",
    "plt.figure()\n",
    "plt.scatter(df['distances'], df['times'],  color='black')\n",
    "aux = plt.plot(linspace, predictions, color='blue', linewidth=3)\n",
    "\n",
    "plt.xticks(())\n",
    "plt.yticks(())\n",
    "\n",
    "plt.show()"
   ]
  },
  {
   "cell_type": "code",
   "execution_count": null,
   "metadata": {
    "collapsed": false
   },
   "outputs": [],
   "source": [
    "rss = np.sum((model.predict(df.drop('times', axis=1)) - df['times']) ** 2)\n",
    "linspace = numpy.array([13.])\n",
    "poly = PolynomialFeatures(degree=19, include_bias=False).fit_transform(linspace.reshape(-1, 1))\n",
    "t_prediction = model.predict(numpy.column_stack([linspace ** 0.5, poly]))[0]\n",
    "t_real = s0.subs('x', 13).evalf()\n",
    "\n",
    "print('RSS: %s' % rss)\n",
    "print('Time (pred): %s' % t_prediction)\n",
    "print('Time (real): %s' % t_real)\n",
    "print('Error: %s' % (t_prediction - t_real))"
   ]
  },
  {
   "cell_type": "markdown",
   "metadata": {},
   "source": [
    "# TODO"
   ]
  },
  {
   "cell_type": "markdown",
   "metadata": {},
   "source": [
    "- Regularization (L1 vs. L2)\n",
    "- Compare predictions (slider?) http://bokeh.pydata.org/en/latest/docs/user_guide/interaction.html#userguide-interaction\n",
    "- Implement Python-based linear regression?\n",
    "- Show simple equations"
   ]
  }
 ],
 "metadata": {
  "kernelspec": {
   "display_name": "Python 3",
   "language": "python",
   "name": "python3"
  },
  "language_info": {
   "codemirror_mode": {
    "name": "ipython",
    "version": 3
   },
   "file_extension": ".py",
   "mimetype": "text/x-python",
   "name": "python",
   "nbconvert_exporter": "python",
   "pygments_lexer": "ipython3",
   "version": "3.5.2"
  }
 },
 "nbformat": 4,
 "nbformat_minor": 0
}
